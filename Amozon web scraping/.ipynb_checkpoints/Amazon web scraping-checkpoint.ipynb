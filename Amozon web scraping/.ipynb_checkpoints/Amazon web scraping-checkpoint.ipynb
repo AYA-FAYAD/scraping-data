{
 "cells": [
  {
   "cell_type": "code",
   "execution_count": 132,
   "id": "7adcd023",
   "metadata": {},
   "outputs": [],
   "source": [
    "# import libraries\n",
    "\n",
    "from bs4 import BeautifulSoup #for pulling data out of HTML and XML files.\n",
    "import requests #make HTTP requests simpler and more human-friendly. \n",
    "import smtplib # Python's standard library has 'smtplib' module which defines an SMTP client session object that can be used to send mail via Python program.\n",
    "import time\n",
    "import datetime\n",
    "import pandas as pd"
   ]
  },
  {
   "cell_type": "code",
   "execution_count": 112,
   "id": "cad63ea1",
   "metadata": {
    "scrolled": true
   },
   "outputs": [
    {
     "name": "stdout",
     "output_type": "stream",
     "text": [
      "\n",
      "            Real Perfection Makeup Brushes 16pcs Makeup Brushes Set with 1 Eyebrow Razor Premium Synthetic Foundation Brushes Blending Face Powder Eye Shadow Concealer Make Up Brushes Tool Kit\n",
      "           \n",
      "$9.99\n"
     ]
    }
   ],
   "source": [
    "# conect to wibsit\n",
    "URL ='https://www.amazon.com/Real-Perfection-Synthetic-Foundation-Concealer/dp/B09BZ4NV2R/ref=pd_rhf_d_dp_s_trq_ed_172zcvyo_sccl_2_1/139-3520359-3433852?pd_rd_w=Xoqla&content-id=amzn1.sym.b0e04501-6de3-434a-b466-046b0073d0c7&pf_rd_p=b0e04501-6de3-434a-b466-046b0073d0c7&pf_rd_r=C0R7DB9R95WXX3D068M3&pd_rd_wg=eRPvn&pd_rd_r=6d8946de-d27c-4d89-80c3-3b79c4a1548f&pd_rd_i=B09BZ4NV2R&psc=1'\n",
    "headers ={\"User-Agent\": \"Mozilla/5.0 (Windows NT 10.0; Win64; x64) AppleWebKit/537.36 (KHTML, like Gecko) Chrome/78.0.3904.108 Safari/537.36\", \"Accept-Encoding\":\"gzip, deflate\", \"Accept\":\"text/html,application/xhtml+xml,application/xml;q=0.9,*/*;q=0.8\", \"DNT\":\"1\",\"Connection\":\"close\", \"Upgrade-Insecure-Requests\":\"1\"}\n",
    "page = requests.get(URL,headers=headers)\n",
    "\n",
    "soup1 =BeautifulSoup(page.content, \"html.parser\")\n",
    "soup2 = BeautifulSoup(soup1.prettify(),\"lxml\") # make thing look better\n",
    "\n",
    "title = soup2.find('span', id='productTitle').get_text()\n",
    "test  = soup2.find(id='corePriceDisplay_desktop_feature_div').get_text()\n",
    "              \n",
    "print(title)\n",
    "test2 = test.split('\\n')\n",
    "new_arr = []\n",
    "for val in test2:\n",
    "    new_val = val.strip() # remove leading and trailing whitespaces\n",
    "    if new_val != '':\n",
    "        new_arr.append(new_val)\n",
    "price=new_arr[1]\n",
    "print(price)"
   ]
  },
  {
   "cell_type": "code",
   "execution_count": 118,
   "id": "b376a091",
   "metadata": {},
   "outputs": [
    {
     "name": "stdout",
     "output_type": "stream",
     "text": [
      "Real Perfection Makeup Brushes 16pcs Makeup Brushes Set with 1 Eyebrow Razor Premium Synthetic Foundation Brushes Blending Face Powder Eye Shadow Concealer Make Up Brushes Tool Kit\n",
      "9.99\n"
     ]
    }
   ],
   "source": [
    "price=price.strip()[1:]\n",
    "title= title.strip()\n",
    "print(title)\n",
    "print(price)"
   ]
  },
  {
   "cell_type": "code",
   "execution_count": 124,
   "id": "617debe9",
   "metadata": {},
   "outputs": [
    {
     "name": "stdout",
     "output_type": "stream",
     "text": [
      "2022-12-01\n"
     ]
    }
   ],
   "source": [
    "today=datetime.date.today()\n",
    "print(today)"
   ]
  },
  {
   "cell_type": "code",
   "execution_count": 130,
   "id": "4ebe1ff1",
   "metadata": {},
   "outputs": [],
   "source": [
    "import csv #Creat new csv file\n",
    "\n",
    "header= ['Title', 'Price','Data']\n",
    "data = [title, price,today]\n",
    "\n",
    "\n",
    "with open (\"AmazonWebScraperDataset.csv\",'w', newline='',encoding=\"UTF8\") as f:\n",
    "    writer= csv.writer(f)\n",
    "    writer.writerow(header)   \n",
    "    writer.writerow(data)\n"
   ]
  },
  {
   "cell_type": "code",
   "execution_count": 133,
   "id": "8f7f3b5c",
   "metadata": {},
   "outputs": [
    {
     "data": {
      "text/html": [
       "<div>\n",
       "<style scoped>\n",
       "    .dataframe tbody tr th:only-of-type {\n",
       "        vertical-align: middle;\n",
       "    }\n",
       "\n",
       "    .dataframe tbody tr th {\n",
       "        vertical-align: top;\n",
       "    }\n",
       "\n",
       "    .dataframe thead th {\n",
       "        text-align: right;\n",
       "    }\n",
       "</style>\n",
       "<table border=\"1\" class=\"dataframe\">\n",
       "  <thead>\n",
       "    <tr style=\"text-align: right;\">\n",
       "      <th></th>\n",
       "      <th>Title</th>\n",
       "      <th>Price</th>\n",
       "      <th>Data</th>\n",
       "    </tr>\n",
       "  </thead>\n",
       "  <tbody>\n",
       "    <tr>\n",
       "      <th>0</th>\n",
       "      <td>Real Perfection Makeup Brushes 16pcs Makeup Br...</td>\n",
       "      <td>9.99</td>\n",
       "      <td>2022-12-01</td>\n",
       "    </tr>\n",
       "  </tbody>\n",
       "</table>\n",
       "</div>"
      ],
      "text/plain": [
       "                                               Title  Price        Data\n",
       "0  Real Perfection Makeup Brushes 16pcs Makeup Br...   9.99  2022-12-01"
      ]
     },
     "execution_count": 133,
     "metadata": {},
     "output_type": "execute_result"
    }
   ],
   "source": [
    "pd.read_csv(\"AmazonWebScraperDataset.csv\")"
   ]
  },
  {
   "cell_type": "code",
   "execution_count": null,
   "id": "e2e4d29f",
   "metadata": {},
   "outputs": [],
   "source": []
  },
  {
   "cell_type": "code",
   "execution_count": null,
   "id": "f56a9cf7",
   "metadata": {},
   "outputs": [],
   "source": []
  },
  {
   "cell_type": "code",
   "execution_count": null,
   "id": "066c1ed5",
   "metadata": {},
   "outputs": [],
   "source": []
  },
  {
   "cell_type": "code",
   "execution_count": null,
   "id": "95974b78",
   "metadata": {},
   "outputs": [],
   "source": []
  }
 ],
 "metadata": {
  "kernelspec": {
   "display_name": "Python 3 (ipykernel)",
   "language": "python",
   "name": "python3"
  },
  "language_info": {
   "codemirror_mode": {
    "name": "ipython",
    "version": 3
   },
   "file_extension": ".py",
   "mimetype": "text/x-python",
   "name": "python",
   "nbconvert_exporter": "python",
   "pygments_lexer": "ipython3",
   "version": "3.9.7"
  }
 },
 "nbformat": 4,
 "nbformat_minor": 5
}
